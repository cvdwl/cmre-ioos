{
 "metadata": {
  "name": "",
  "signature": "sha256:861b9c7ed99f6e42de82d90de11f7f0fb9ed548619828ca4eb565b6641cd2dfc"
 },
 "nbformat": 3,
 "nbformat_minor": 0,
 "worksheets": [
  {
   "cells": [
    {
     "cell_type": "code",
     "collapsed": false,
     "input": [
      "import requests, json"
     ],
     "language": "python",
     "metadata": {},
     "outputs": [],
     "prompt_number": 17
    },
    {
     "cell_type": "code",
     "collapsed": false,
     "input": [
      "headers = {'Content-Type': 'application/xml'}"
     ],
     "language": "python",
     "metadata": {},
     "outputs": [],
     "prompt_number": 18
    },
    {
     "cell_type": "code",
     "collapsed": false,
     "input": [
      "endpoint = 'http://www.ngdc.noaa.gov/geoportal/csw'\n",
      "##endpoint = 'http://172.21.173.15/geonetwork/srv/eng/csw'\n",
      "endpoint = 'http://scsrv26v:8000'"
     ],
     "language": "python",
     "metadata": {},
     "outputs": [],
     "prompt_number": 28
    },
    {
     "cell_type": "code",
     "collapsed": false,
     "input": [
      "input=\"\"\"\n",
      "<?xml version=\"1.0\" encoding=\"UTF-8\"?>\n",
      "<csw:GetRecords xmlns:csw=\"http://www.opengis.net/cat/csw/2.0.2\" service=\"CSW\" version=\"2.0.2\">\n",
      "  <csw:Query typeNames=\"csw:Record\">\n",
      "    <csw:Constraint version=\"1.1.0\">\n",
      "      <Filter xmlns=\"http://www.opengis.net/ogc\" xmlns:gml=\"http://www.opengis.net/gml\">\n",
      "        <PropertyIsLike wildCard=\"%\" singleChar=\"_\" escape=\"\\\\\">\n",
      "          <PropertyName>AnyText</PropertyName>\n",
      "          <Literal>%temperature%</Literal>\n",
      "        </PropertyIsLike>\n",
      "      </Filter>\n",
      "    </csw:Constraint>\n",
      "  </csw:Query>\n",
      "</csw:GetRecords>\n",
      "\"\"\""
     ],
     "language": "python",
     "metadata": {},
     "outputs": [],
     "prompt_number": 29
    },
    {
     "cell_type": "code",
     "collapsed": false,
     "input": [
      "input='''\n",
      "<csw:GetRecords xmlns:csw=\"http://www.opengis.net/cat/csw/2.0.2\" version=\"2.0.2\" service=\"CSW\" resultType=\"results\" startPosition=\"1\" maxRecords=\"11\" outputSchema=\"http://www.isotc211.org/2005/gmd\"> <csw:Query typeNames=\"csw:Record\" xmlns:ogc=\"http://www.opengis.net/ogc\" xmlns:gml=\"http://www.opengis.net/gml\" > \n",
      "<csw:ElementSetName>full</csw:ElementSetName> \n",
      "<csw:Constraint version=\"1.1.0\"> \n",
      "  <ogc:Filter>\n",
      "    <ogc:And>\n",
      "      <ogc:PropertyIsGreaterThan> \n",
      "      <ogc:PropertyName>apiso:modified</ogc:PropertyName> <ogc:Literal>2014-09-30</ogc:Literal>\n",
      "      </ogc:PropertyIsGreaterThan> \n",
      "      <ogc:PropertyIsLessThan> \n",
      "      <ogc:PropertyName>apiso:modified</ogc:PropertyName> <ogc:Literal>2014-10-02</ogc:Literal>\n",
      "      </ogc:PropertyIsLessThan> \n",
      "    </ogc:And>\n",
      "  </ogc:Filter>\n",
      "</csw:Constraint> \n",
      "</csw:Query> \n",
      "</csw:GetRecords> \n",
      "'''"
     ],
     "language": "python",
     "metadata": {},
     "outputs": [],
     "prompt_number": 30
    },
    {
     "cell_type": "code",
     "collapsed": false,
     "input": [
      "input='''\n",
      "<csw:GetRecords xmlns:csw='http://www.opengis.net/cat/csw/2.0.2' version='2.0.2' service='CSW' resultType='results' startPosition='1' maxRecords='15'><csw:Query typeNames='csw:Record' xmlns:ogc='http://www.opengis.net/ogc' xmlns:gml='http://www.opengis.net/gml'><csw:ElementSetName>full</csw:ElementSetName><csw:Constraint version='1.1.0'>\n",
      "<ogc:Filter>\n",
      "<ogc:And>\n",
      "<ogc:PropertyIsLike wildCard='%' escapeChar='' singleChar='?'>\n",
      "<ogc:PropertyName>csw:AnyText</ogc:PropertyName>\n",
      "<ogc:Literal>%temperature%</ogc:Literal>\n",
      "</ogc:PropertyIsLike>\n",
      "<ogc:BBOX>\n",
      "<ogc:PropertyName>ows:BoundingBox</ogc:PropertyName>\n",
      "<gml:Envelope><gml:lowerCorner>-20.6375834 0.3145072444444</gml:lowerCorner><gml:upperCorner>20.0 55.8652707555555</gml:upperCorner></gml:Envelope>\n",
      "</ogc:BBOX>\n",
      "</ogc:And>\n",
      "</ogc:Filter>\n",
      "</csw:Constraint>\n",
      "</csw:Query></csw:GetRecords>\n",
      "'''"
     ],
     "language": "python",
     "metadata": {},
     "outputs": [],
     "prompt_number": 31
    },
    {
     "cell_type": "code",
     "collapsed": false,
     "input": [
      "xml_string=requests.post(endpoint, data=input, headers=headers).text"
     ],
     "language": "python",
     "metadata": {},
     "outputs": [],
     "prompt_number": 32
    },
    {
     "cell_type": "code",
     "collapsed": false,
     "input": [
      "print xml_string"
     ],
     "language": "python",
     "metadata": {},
     "outputs": [
      {
       "output_type": "stream",
       "stream": "stdout",
       "text": [
        "<?xml version=\"1.0\" encoding=\"UTF-8\" standalone=\"no\"?>\n",
        "<!-- pycsw 1.11-dev -->\n",
        "<csw:GetRecordsResponse xmlns:dc=\"http://purl.org/dc/elements/1.1/\" xmlns:inspire_common=\"http://inspire.ec.europa.eu/schemas/common/1.0\" xmlns:atom=\"http://www.w3.org/2005/Atom\" xmlns:xs=\"http://www.w3.org/2001/XMLSchema\" xmlns:dct=\"http://purl.org/dc/terms/\" xmlns:ows=\"http://www.opengis.net/ows\" xmlns:apiso=\"http://www.opengis.net/cat/csw/apiso/1.0\" xmlns:gml=\"http://www.opengis.net/gml\" xmlns:dif=\"http://gcmd.gsfc.nasa.gov/Aboutus/xml/dif/\" xmlns:xlink=\"http://www.w3.org/1999/xlink\" xmlns:gco=\"http://www.isotc211.org/2005/gco\" xmlns:gmd=\"http://www.isotc211.org/2005/gmd\" xmlns:rdf=\"http://www.w3.org/1999/02/22-rdf-syntax-ns#\" xmlns:srv=\"http://www.isotc211.org/2005/srv\" xmlns:ogc=\"http://www.opengis.net/ogc\" xmlns:fgdc=\"http://www.opengis.net/cat/csw/csdgm\" xmlns:inspire_ds=\"http://inspire.ec.europa.eu/schemas/inspire_ds/1.0\" xmlns:csw=\"http://www.opengis.net/cat/csw/2.0.2\" xmlns:xsi=\"http://www.w3.org/2001/XMLSchema-instance\" xmlns:os=\"http://a9.com/-/spec/opensearch/1.1/\" xmlns:soapenv=\"http://www.w3.org/2003/05/soap-envelope\" xmlns:sitemap=\"http://www.sitemaps.org/schemas/sitemap/0.9\" version=\"2.0.2\" xsi:schemaLocation=\"http://www.opengis.net/cat/csw/2.0.2 http://schemas.opengis.net/csw/2.0.2/CSW-discovery.xsd\"><csw:SearchStatus timestamp=\"2014-11-18T13:41:55Z\"/><csw:SearchResults nextRecord=\"0\" numberOfRecordsMatched=\"0\" numberOfRecordsReturned=\"0\" recordSchema=\"http://www.opengis.net/cat/csw/2.0.2\" elementSet=\"full\"/></csw:GetRecordsResponse>\n"
       ]
      }
     ],
     "prompt_number": 33
    },
    {
     "cell_type": "code",
     "collapsed": false,
     "input": [],
     "language": "python",
     "metadata": {},
     "outputs": [],
     "prompt_number": 33
    },
    {
     "cell_type": "code",
     "collapsed": false,
     "input": [],
     "language": "python",
     "metadata": {},
     "outputs": []
    }
   ],
   "metadata": {}
  }
 ]
}