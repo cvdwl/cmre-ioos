{
 "metadata": {
  "name": "",
  "signature": "sha256:8da124e57127616af029977a15b8c33df107e227169ae72e8936ec2e47f51393"
 },
 "nbformat": 3,
 "nbformat_minor": 0,
 "worksheets": [
  {
   "cells": [
    {
     "cell_type": "heading",
     "level": 1,
     "metadata": {},
     "source": [
      "ROMS Test"
     ]
    },
    {
     "cell_type": "code",
     "collapsed": false,
     "input": [
      "import numpy as np\n",
      "import seawater as sw\n",
      "import matplotlib.pyplot as plt\n",
      "from scipy.interpolate import interp1d\n",
      "import netCDF4\n",
      "import numpy.ma as ma\n",
      "import seawater\n",
      "%matplotlib inline\n",
      "import iris"
     ],
     "language": "python",
     "metadata": {},
     "outputs": [],
     "prompt_number": 1
    },
    {
     "cell_type": "code",
     "collapsed": false,
     "input": [
      "url='http://scsrv26v:8080/thredds/dodsC/cmre_roms/fmrc/cmre_roms_best.ncd'"
     ],
     "language": "python",
     "metadata": {},
     "outputs": [],
     "prompt_number": 2
    },
    {
     "cell_type": "code",
     "collapsed": false,
     "input": [
      "tvar = iris.load_cube(url,'potential temperature')"
     ],
     "language": "python",
     "metadata": {},
     "outputs": [
      {
       "output_type": "stream",
       "stream": "stderr",
       "text": [
        "/usr/local/anaconda/lib/python2.7/site-packages/iris/fileformats/cf.py:1038: UserWarning: Ignoring formula terms variable u'h' referenced by data variable u'v' via variable u's_rho': Dimensions (u'eta_rho', u'xi_rho') do not span (u'time', u's_rho', u'eta_v', u'xi_v')\n",
        "  warnings.warn(msg)\n",
        "/usr/local/anaconda/lib/python2.7/site-packages/iris/fileformats/cf.py:1038: UserWarning: Ignoring formula terms variable u'zeta' referenced by data variable u'v' via variable u's_rho': Dimensions (u'time', u'eta_rho', u'xi_rho') do not span (u'time', u's_rho', u'eta_v', u'xi_v')\n",
        "  warnings.warn(msg)\n",
        "/usr/local/anaconda/lib/python2.7/site-packages/iris/fileformats/cf.py:1038: UserWarning: Ignoring formula terms variable u'h' referenced by data variable u'u' via variable u's_rho': Dimensions (u'eta_rho', u'xi_rho') do not span (u'time', u's_rho', u'eta_u', u'xi_u')\n",
        "  warnings.warn(msg)\n"
       ]
      },
      {
       "output_type": "stream",
       "stream": "stderr",
       "text": [
        "/usr/local/anaconda/lib/python2.7/site-packages/iris/fileformats/cf.py:1038: UserWarning: Ignoring formula terms variable u'zeta' referenced by data variable u'u' via variable u's_rho': Dimensions (u'time', u'eta_rho', u'xi_rho') do not span (u'time', u's_rho', u'eta_u', u'xi_u')\n",
        "  warnings.warn(msg)\n",
        "/usr/local/anaconda/lib/python2.7/site-packages/iris/fileformats/_pyke_rules/compiled_krb/fc_rules_cf_fc.py:1291: UserWarning: Gracefully filling 'time' dimension coordinate masked points\n",
        "  warnings.warn(msg.format(str(cf_coord_var.cf_name)))\n"
       ]
      }
     ],
     "prompt_number": 3
    },
    {
     "cell_type": "code",
     "collapsed": false,
     "input": [
      "print tvar"
     ],
     "language": "python",
     "metadata": {},
     "outputs": [
      {
       "output_type": "stream",
       "stream": "stdout",
       "text": [
        "potential temperature                                 (time: 57; S-coordinate at RHO-points: 32; -- : 172; -- : 120)\n",
        "     Dimension coordinates:\n",
        "          time                                             x                               -        -         -\n",
        "          S-coordinate at RHO-points                       -                               x        -         -\n",
        "     Auxiliary coordinates:\n",
        "          forecast_reference_time                          x                               -        -         -\n",
        "          free-surface                                     x                               -        x         x\n",
        "          S-coordinate stretching curves at RHO-points     -                               x        -         -\n",
        "          bathymetry at RHO-points                         -                               -        x         x\n",
        "          latitude                                         -                               -        x         x\n",
        "          longitude                                        -                               -        x         x\n",
        "     Scalar coordinates:\n",
        "          S-coordinate parameter, critical depth: 50.0 meter\n",
        "     Attributes:\n",
        "          CPP_options: REP14, ANA_BSFLUX, ANA_BTFLUX, ASSUMED_SHAPE, ATM_PRESS, AVERAGES, BULK_FLUXES,...\n",
        "          Conventions: CF-1.4, _Coordinates\n",
        "          DODS_EXTRA.Unlimited_Dimension: ocean_time\n",
        "          NLM_LBC: \n",
        "EDGE:  WEST   SOUTH  EAST   NORTH  \n",
        "zeta:  Cha    Cha    Cha    Cha  ...\n",
        "          _CoordSysBuilder: ucar.nc2.dataset.conv.CF1Convention\n",
        "          ana_file: ROMS/Functionals/ana_btflux.h, ROMS/Functionals/ana_nudgcoef.h\n",
        "          avg_file: /storage/ROMS/EnKF/REP14/OPERATIONAL/20140619/avg/roms_20140619_REF_72...\n",
        "          bry_file: /storage/forcing/REP14/MFS/ref/roms_mfs_bry_20140619.nc\n",
        "          cdm_data_type: GRID\n",
        "          code_dir: /home/silvia.falchetti/Softs/ROMS\n",
        "          compiler_command: /usr/local/bin/mpif90\n",
        "          compiler_flags: -frepack-arrays -O3 -ffast-math -ffree-form -ffree-line-length-none -ffree-form...\n",
        "          compiler_system: gfortran\n",
        "          cpu: x86_64\n",
        "          featureType: GRID\n",
        "          field: temperature, scalar, series\n",
        "          file: /storage/ROMS/EnKF/REP14/OPERATIONAL/20140619/his/roms_20140619_REF_72...\n",
        "          format: netCDF-3 64bit offset file\n",
        "          frc_file_01: /storage/forcing/REP14/COSMO/ref/roms_cosmo_frc_20140619.nc\n",
        "          grd_file: /home/silvia.falchetti/Softs/REP14ROMS/REP14/Input/grid_REP14_v4.nc\n",
        "          header_dir: /home/silvia.falchetti/Softs/REP14ROMS\n",
        "          header_file: rep14.h\n",
        "          his_file: /storage/ROMS/EnKF/REP14/OPERATIONAL/20140619/his/roms_20140619_REF_72...\n",
        "          history: ROMS/TOMS, Version 3.7, Thursday - June 19, 2014 -  8:00:02 AM ;\n",
        "FMRC Best...\n",
        "          ini_file: /storage/ROMS/EnKF/REP14/OPERATIONAL/20140618/rst/roms_20140618_REF_72...\n",
        "          location: Proto fmrc:cmre_roms\n",
        "          os: Linux\n",
        "          rst_file: /storage/ROMS/EnKF/REP14/OPERATIONAL/20140619/rst/roms_20140619_REF_72...\n",
        "          script_file: \n",
        "          svn_rev: 714M\n",
        "          svn_url: https://www.myroms.org/svn/src/trunk\n",
        "          tiling: 004x003\n",
        "          time: ocean_time\n",
        "          title: REP14 ROMS Forecast\n",
        "          type: ROMS/TOMS history file\n"
       ]
      }
     ],
     "prompt_number": 4
    },
    {
     "cell_type": "code",
     "collapsed": false,
     "input": [
      "print tvar[-1,0,0,0]"
     ],
     "language": "python",
     "metadata": {},
     "outputs": [
      {
       "output_type": "stream",
       "stream": "stdout",
       "text": [
        "potential temperature / (Celsius)   (scalar cube)\n",
        "     Scalar coordinates:\n",
        "          S-coordinate at RHO-points: -0.984375\n",
        "          S-coordinate parameter, critical depth: 50.0 meter\n",
        "          S-coordinate stretching curves at RHO-points: -0.954449717375\n",
        "          bathymetry at RHO-points: 2845.0 meter\n",
        "          forecast_reference_time: 2014-06-20 00:00:00\n",
        "          free-surface: -0.0336245 meter\n",
        "          latitude: 38.5903714648 degrees\n",
        "          longitude: 6.50875 degrees\n",
        "          time: 2014-06-23 00:00:00\n",
        "     Attributes:\n",
        "          CPP_options: REP14, ANA_BSFLUX, ANA_BTFLUX, ASSUMED_SHAPE, ATM_PRESS, AVERAGES, BULK_FLUXES,...\n",
        "          Conventions: CF-1.4, _Coordinates\n",
        "          DODS_EXTRA.Unlimited_Dimension: ocean_time\n",
        "          NLM_LBC: \n",
        "EDGE:  WEST   SOUTH  EAST   NORTH  \n",
        "zeta:  Cha    Cha    Cha    Cha  ...\n",
        "          _CoordSysBuilder: ucar.nc2.dataset.conv.CF1Convention\n",
        "          ana_file: ROMS/Functionals/ana_btflux.h, ROMS/Functionals/ana_nudgcoef.h\n",
        "          avg_file: /storage/ROMS/EnKF/REP14/OPERATIONAL/20140619/avg/roms_20140619_REF_72...\n",
        "          bry_file: /storage/forcing/REP14/MFS/ref/roms_mfs_bry_20140619.nc\n",
        "          cdm_data_type: GRID\n",
        "          code_dir: /home/silvia.falchetti/Softs/ROMS\n",
        "          compiler_command: /usr/local/bin/mpif90\n",
        "          compiler_flags: -frepack-arrays -O3 -ffast-math -ffree-form -ffree-line-length-none -ffree-form...\n",
        "          compiler_system: gfortran\n",
        "          cpu: x86_64\n",
        "          featureType: GRID\n",
        "          field: temperature, scalar, series\n",
        "          file: /storage/ROMS/EnKF/REP14/OPERATIONAL/20140619/his/roms_20140619_REF_72...\n",
        "          format: netCDF-3 64bit offset file\n",
        "          frc_file_01: /storage/forcing/REP14/COSMO/ref/roms_cosmo_frc_20140619.nc\n",
        "          grd_file: /home/silvia.falchetti/Softs/REP14ROMS/REP14/Input/grid_REP14_v4.nc\n",
        "          header_dir: /home/silvia.falchetti/Softs/REP14ROMS\n",
        "          header_file: rep14.h\n",
        "          his_file: /storage/ROMS/EnKF/REP14/OPERATIONAL/20140619/his/roms_20140619_REF_72...\n",
        "          history: ROMS/TOMS, Version 3.7, Thursday - June 19, 2014 -  8:00:02 AM ;\n",
        "FMRC Best...\n",
        "          ini_file: /storage/ROMS/EnKF/REP14/OPERATIONAL/20140618/rst/roms_20140618_REF_72...\n",
        "          location: Proto fmrc:cmre_roms\n",
        "          os: Linux\n",
        "          rst_file: /storage/ROMS/EnKF/REP14/OPERATIONAL/20140619/rst/roms_20140619_REF_72...\n",
        "          script_file: \n",
        "          svn_rev: 714M\n",
        "          svn_url: https://www.myroms.org/svn/src/trunk\n",
        "          tiling: 004x003\n",
        "          time: ocean_time\n",
        "          title: REP14 ROMS Forecast\n",
        "          type: ROMS/TOMS history file\n"
       ]
      }
     ],
     "prompt_number": 16
    },
    {
     "cell_type": "code",
     "collapsed": false,
     "input": [
      "tim.convert_units()"
     ],
     "language": "python",
     "metadata": {},
     "outputs": [
      {
       "ename": "TypeError",
       "evalue": "'NoneType' object is not callable",
       "output_type": "pyerr",
       "traceback": [
        "\u001b[1;31m---------------------------------------------------------------------------\u001b[0m\n\u001b[1;31mTypeError\u001b[0m                                 Traceback (most recent call last)",
        "\u001b[1;32m<ipython-input-13-746b5a2b4d0e>\u001b[0m in \u001b[0;36m<module>\u001b[1;34m()\u001b[0m\n\u001b[1;32m----> 1\u001b[1;33m \u001b[0mtim\u001b[0m\u001b[1;33m.\u001b[0m\u001b[0mbounds\u001b[0m\u001b[1;33m(\u001b[0m\u001b[1;33m)\u001b[0m\u001b[1;33m\u001b[0m\u001b[0m\n\u001b[0m",
        "\u001b[1;31mTypeError\u001b[0m: 'NoneType' object is not callable"
       ]
      }
     ],
     "prompt_number": 13
    },
    {
     "cell_type": "code",
     "collapsed": false,
     "input": [],
     "language": "python",
     "metadata": {},
     "outputs": []
    }
   ],
   "metadata": {}
  }
 ]
}