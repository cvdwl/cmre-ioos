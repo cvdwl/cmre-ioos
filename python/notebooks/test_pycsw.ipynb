{
 "metadata": {
  "name": "",
  "signature": "sha256:7f51b4996f5394875692bd7621ae0bc1855b0c1c6a6dbda64d3ab282e727aa7a"
 },
 "nbformat": 3,
 "nbformat_minor": 0,
 "worksheets": [
  {
   "cells": [
    {
     "cell_type": "heading",
     "level": 1,
     "metadata": {},
     "source": [
      "CMRE pyCSW"
     ]
    },
    {
     "cell_type": "code",
     "collapsed": false,
     "input": [
      "from owslib.csw import CatalogueServiceWeb\n",
      "from owslib import fes\n",
      "import netCDF4\n",
      "import numpy as np"
     ],
     "language": "python",
     "metadata": {},
     "outputs": [],
     "prompt_number": 1
    },
    {
     "cell_type": "code",
     "collapsed": false,
     "input": [
      "endpoint='http://scsrv26v:8000/pycsw'\n",
      "#endpoint='http://www.ngdc.noaa.gov/geoportal/csw'\n",
      "\n",
      "csw = CatalogueServiceWeb(endpoint,timeout=60)\n",
      "csw.version"
     ],
     "language": "python",
     "metadata": {},
     "outputs": [
      {
       "metadata": {},
       "output_type": "pyout",
       "prompt_number": 2,
       "text": [
        "'2.0.2'"
       ]
      }
     ],
     "prompt_number": 2
    },
    {
     "cell_type": "code",
     "collapsed": false,
     "input": [
      "csw.get_operation_by_name('GetRecords').constraints"
     ],
     "language": "python",
     "metadata": {},
     "outputs": [
      {
       "metadata": {},
       "output_type": "pyout",
       "prompt_number": 3,
       "text": [
        "[Constraint: SupportedISOQueryables - ['apiso:DistanceValue', 'apiso:Abstract', 'apiso:RevisionDate', 'apiso:Subject', 'apiso:KeywordType', 'apiso:Title', 'apiso:CRS', 'apiso:PublicationDate', 'apiso:Type', 'apiso:AlternateTitle', 'apiso:BoundingBox', 'apiso:AnyText', 'apiso:ParentIdentifier', 'apiso:Modified', 'apiso:Operation', 'apiso:Format', 'apiso:TempExtent_end', 'apiso:DistanceUOM', 'apiso:OrganisationName', 'apiso:ServiceType', 'apiso:TempExtent_begin', 'apiso:ResourceLanguage', 'apiso:ServiceTypeVersion', 'apiso:OperatesOn', 'apiso:Denominator', 'apiso:HasSecurityConstraints', 'apiso:OperatesOnIdentifier', 'apiso:GeographicDescriptionCode', 'apiso:Language', 'apiso:Identifier', 'apiso:OperatesOnName', 'apiso:TopicCategory', 'apiso:CreationDate', 'apiso:CouplingType'],\n",
        " Constraint: AdditionalQueryables - ['apiso:Lineage', 'apiso:Classification', 'apiso:Creator', 'apiso:Relation', 'apiso:OtherConstraints', 'apiso:SpecificationTitle', 'apiso:ResponsiblePartyRole', 'apiso:SpecificationDateType', 'apiso:Degree', 'apiso:Contributor', 'apiso:ConditionApplyingToAccessAndUse', 'apiso:SpecificationDate', 'apiso:AccessConstraints', 'apiso:Publisher'],\n",
        " Constraint: SupportedDublinCoreQueryables - ['dc:contributor', 'dc:source', 'dc:language', 'dc:title', 'dc:subject', 'dc:creator', 'dc:type', 'ows:BoundingBox', 'dct:modified', 'dct:abstract', 'dc:relation', 'dc:date', 'dc:identifier', 'dc:publisher', 'dc:format', 'csw:AnyText', 'dc:rights']]"
       ]
      }
     ],
     "prompt_number": 3
    },
    {
     "cell_type": "code",
     "collapsed": false,
     "input": [
      "def dateRange(start_date='1900-01-01',stop_date='2100-01-01',constraint='overlaps'):\n",
      "    if constraint == 'overlaps':\n",
      "        start = fes.PropertyIsLessThanOrEqualTo(propertyname='apiso:TempExtent_begin', literal=stop_date)\n",
      "        stop = fes.PropertyIsGreaterThanOrEqualTo(propertyname='apiso:TempExtent_end', literal=start_date)\n",
      "    elif constraint == 'within':\n",
      "        start = fes.PropertyIsGreaterThanOrEqualTo(propertyname='apiso:TempExtent_begin', literal=start_date)\n",
      "        stop = fes.PropertyIsLessThanOrEqualTo(propertyname='apiso:TempExtent_end', literal=stop_date)\n",
      "    return start,stop"
     ],
     "language": "python",
     "metadata": {},
     "outputs": [],
     "prompt_number": 6
    },
    {
     "cell_type": "code",
     "collapsed": false,
     "input": [
      "box=[38., 6., 41., 9.]     #  lon_min lat_min lon_max lat_max\n",
      "start_date='2014-03-12 18:00'\n",
      "stop_date='2014-09-18 18:00'\n",
      "val = 'sea_water_potential_temperature'"
     ],
     "language": "python",
     "metadata": {},
     "outputs": [],
     "prompt_number": 7
    },
    {
     "cell_type": "code",
     "collapsed": false,
     "input": [
      "# convert User Input into FES filters\n",
      "start,stop = dateRange(start_date,stop_date)\n",
      "bbox = fes.BBox(box)\n",
      "any_text = fes.PropertyIsLike(propertyname='apiso:AnyText',literal=('*%s*' % val),\n",
      "                        escapeChar='\\\\',wildCard='*',singleChar='?')"
     ],
     "language": "python",
     "metadata": {},
     "outputs": [],
     "prompt_number": 8
    },
    {
     "cell_type": "code",
     "collapsed": false,
     "input": [
      "# combine filters into a list\n",
      "filter_list = [fes.And([ start, stop, bbox,any_text]) ]"
     ],
     "language": "python",
     "metadata": {},
     "outputs": [],
     "prompt_number": 9
    },
    {
     "cell_type": "code",
     "collapsed": false,
     "input": [
      "csw.getrecords2(constraints=filter_list,maxrecords=100,esn='full')\n",
      "len(csw.records.keys())"
     ],
     "language": "python",
     "metadata": {},
     "outputs": [
      {
       "metadata": {},
       "output_type": "pyout",
       "prompt_number": 10,
       "text": [
        "9"
       ]
      }
     ],
     "prompt_number": 10
    },
    {
     "cell_type": "code",
     "collapsed": false,
     "input": [
      "choice=np.random.choice(list(csw.records.keys()))\n",
      "print(csw.records[choice].title)\n",
      "csw.records[choice].references"
     ],
     "language": "python",
     "metadata": {},
     "outputs": [
      {
       "output_type": "stream",
       "stream": "stdout",
       "text": [
        "REP14:Model:SOCIB:WMOP:Regular Grid\n"
       ]
      },
      {
       "metadata": {},
       "output_type": "pyout",
       "prompt_number": 11,
       "text": [
        "[{'scheme': 'WWW:LINK',\n",
        "  'url': 'http://scsrv26v:8080/thredds/dodsC/socib_roms/fmrc/socib_roms_best.ncd.html'},\n",
        " {'scheme': 'WWW:LINK',\n",
        "  'url': 'http://www.ncdc.noaa.gov/oa/wct/wct-jnlp-beta.php?singlefile=http://scsrv26v:8080/thredds/dodsC/socib_roms/fmrc/socib_roms_best.ncd'},\n",
        " {'scheme': 'OPeNDAP:OPeNDAP',\n",
        "  'url': 'http://scsrv26v:8080/thredds/dodsC/socib_roms/fmrc/socib_roms_best.ncd'},\n",
        " {'scheme': 'OGC:WMS',\n",
        "  'url': 'http://scsrv26v:8080/thredds/wms/socib_roms/fmrc/socib_roms_best.ncd?service=WMS&version=1.3.0&request=GetCapabilities'},\n",
        " {'scheme': 'UNIDATA:NCSS',\n",
        "  'url': 'http://scsrv26v:8080/thredds/ncss/grid/socib_roms/fmrc/socib_roms_best.ncd/dataset.html'}]"
       ]
      }
     ],
     "prompt_number": 11
    },
    {
     "cell_type": "code",
     "collapsed": false,
     "input": [
      "# get specific ServiceType URL from records\n",
      "def service_urls(records,service_string='OPeNDAP:OPeNDAP'):\n",
      "    urls=[]\n",
      "    for key,rec in records.iteritems():\n",
      "        #create a generator object, and iterate through it until the match is found\n",
      "        #if not found, gets the default value (here \"none\")\n",
      "        url = next((d['url'] for d in rec.references if d['scheme'] == service_string), None)\n",
      "        if url is not None:\n",
      "            urls.append(url)\n",
      "    return urls"
     ],
     "language": "python",
     "metadata": {},
     "outputs": [],
     "prompt_number": 12
    },
    {
     "cell_type": "code",
     "collapsed": false,
     "input": [
      "#scheme='urn:x-esri:specification:ServiceType:odp:url'\n",
      "scheme='OPeNDAP:OPeNDAP'\n",
      "urls = service_urls(csw.records,service_string=scheme)\n",
      "print \"\\n\".join(urls)"
     ],
     "language": "python",
     "metadata": {},
     "outputs": [
      {
       "output_type": "stream",
       "stream": "stdout",
       "text": [
        "http://scsrv26v:8080/thredds/dodsC/cmre_roms/fmrc/cmre_roms_best.ncd\n",
        "http://scsrv26v:8080/thredds/dodsC/gliders/GL-20140608-zoe-MEDREP14depl001-grid-D.nc.ncml\n",
        "http://scsrv26v:8080/thredds/dodsC/gliders/GL-20140609-noa-MEDREP14depl001-grid-D.nc.ncml\n",
        "http://scsrv26v:8080/thredds/dodsC/socib_roms/fmrc/socib_roms_best.ncd\n",
        "http://scsrv26v:8080/thredds/dodsC/cmre_roms_regular/fmrc/cmre_roms_regular_best.ncd\n",
        "http://scsrv26v:8080/thredds/dodsC/mfs/fmrc/mfs_best.ncd\n",
        "http://scsrv26v:8080/thredds/dodsC/mercator/fmrc/mercator_best.ncd\n",
        "http://scsrv26v:8080/thredds/dodsC/nrl/fmrc/nrl_best.ncd\n",
        "http://thredds.socib.es/thredds/dodsC/operational_models/oceanographical/hydrodynamics/model_run_aggregation/wmopv2/wmopv2_best.ncd\n"
       ]
      }
     ],
     "prompt_number": 13
    },
    {
     "cell_type": "code",
     "collapsed": false,
     "input": [
      "import iris\n",
      "import iris.plot as iplt\n",
      "import iris.quickplot as qplt\n",
      "import cartopy.crs as ccrs"
     ],
     "language": "python",
     "metadata": {},
     "outputs": [],
     "prompt_number": 14
    },
    {
     "cell_type": "code",
     "collapsed": false,
     "input": [
      "cube = iris.load_cube(urls[0],'sea_water_potential_temperature')"
     ],
     "language": "python",
     "metadata": {},
     "outputs": [
      {
       "output_type": "stream",
       "stream": "stderr",
       "text": [
        "/home/signell/anaconda/envs/ioos/lib/python2.7/site-packages/iris/fileformats/cf.py:1038: UserWarning: Ignoring formula terms variable u'h' referenced by data variable u'v' via variable u's_rho': Dimensions (u'eta_rho', u'xi_rho') do not span (u'time', u's_rho', u'eta_v', u'xi_v')\n",
        "  warnings.warn(msg)\n",
        "/home/signell/anaconda/envs/ioos/lib/python2.7/site-packages/iris/fileformats/cf.py:1038: UserWarning: Ignoring formula terms variable u'zeta' referenced by data variable u'v' via variable u's_rho': Dimensions (u'time', u'eta_rho', u'xi_rho') do not span (u'time', u's_rho', u'eta_v', u'xi_v')\n",
        "  warnings.warn(msg)\n",
        "/home/signell/anaconda/envs/ioos/lib/python2.7/site-packages/iris/fileformats/cf.py:1038: UserWarning: Ignoring formula terms variable u'h' referenced by data variable u'u' via variable u's_rho': Dimensions (u'eta_rho', u'xi_rho') do not span (u'time', u's_rho', u'eta_u', u'xi_u')\n",
        "  warnings.warn(msg)\n"
       ]
      },
      {
       "output_type": "stream",
       "stream": "stderr",
       "text": [
        "/home/signell/anaconda/envs/ioos/lib/python2.7/site-packages/iris/fileformats/cf.py:1038: UserWarning: Ignoring formula terms variable u'zeta' referenced by data variable u'u' via variable u's_rho': Dimensions (u'time', u'eta_rho', u'xi_rho') do not span (u'time', u's_rho', u'eta_u', u'xi_u')\n",
        "  warnings.warn(msg)\n",
        "/home/signell/anaconda/envs/ioos/lib/python2.7/site-packages/iris/fileformats/_pyke_rules/compiled_krb/fc_rules_cf_fc.py:1291: UserWarning: Gracefully filling 'time' dimension coordinate masked points\n",
        "  warnings.warn(msg.format(str(cf_coord_var.cf_name)))\n"
       ]
      }
     ],
     "prompt_number": 15
    },
    {
     "cell_type": "code",
     "collapsed": false,
     "input": [
      "print cube"
     ],
     "language": "python",
     "metadata": {},
     "outputs": [
      {
       "output_type": "stream",
       "stream": "stdout",
       "text": [
        "sea_water_potential_temperature             (time: 129; S-coordinate at RHO-points: 32; -- : 172; -- : 120)\n",
        "     Dimension coordinates:\n",
        "          time                                             x                                -        -         -\n",
        "          S-coordinate at RHO-points                       -                                x        -         -\n",
        "     Auxiliary coordinates:\n",
        "          forecast_reference_time                          x                                -        -         -\n",
        "          sea_surface_height                               x                                -        x         x\n",
        "          S-coordinate stretching curves at RHO-points     -                                x        -         -\n",
        "          bathymetry at RHO-points                         -                                -        x         x\n",
        "          latitude                                         -                                -        x         x\n",
        "          longitude                                        -                                -        x         x\n",
        "     Scalar coordinates:\n",
        "          S-coordinate parameter, critical depth: 50.0 meter\n",
        "     Attributes:\n",
        "          CPP_options: REP14, ANA_BSFLUX, ANA_BTFLUX, ASSUMED_SHAPE, ATM_PRESS, AVERAGES, BULK_FLUXES,...\n",
        "          Conventions: CF-1.4, _Coordinates\n",
        "          DODS_EXTRA.Unlimited_Dimension: ocean_time\n",
        "          NLM_LBC: \n",
        "EDGE:  WEST   SOUTH  EAST   NORTH  \n",
        "zeta:  Cha    Cha    Cha    Cha  ...\n",
        "          _CoordSysBuilder: ucar.nc2.dataset.conv.CF1Convention\n",
        "          ana_file: ROMS/Functionals/ana_btflux.h, ROMS/Functionals/ana_nudgcoef.h\n",
        "          avg_file: /storage/ROMS/EnKF/REP14/OPERATIONAL/20140619/avg/roms_20140619_REF_72...\n",
        "          bry_file: /storage/forcing/REP14/MFS/ref/roms_mfs_bry_20140619.nc\n",
        "          cdm_data_type: GRID\n",
        "          code_dir: /home/silvia.falchetti/Softs/ROMS\n",
        "          compiler_command: /usr/local/bin/mpif90\n",
        "          compiler_flags: -frepack-arrays -O3 -ffast-math -ffree-form -ffree-line-length-none -ffree-form...\n",
        "          compiler_system: gfortran\n",
        "          cpu: x86_64\n",
        "          featureType: GRID\n",
        "          field: temperature, scalar, series\n",
        "          file: /storage/ROMS/EnKF/REP14/OPERATIONAL/20140619/his/roms_20140619_REF_72...\n",
        "          format: netCDF-3 64bit offset file\n",
        "          frc_file_01: /storage/forcing/REP14/COSMO/ref/roms_cosmo_frc_20140619.nc\n",
        "          grd_file: /home/silvia.falchetti/Softs/REP14ROMS/REP14/Input/grid_REP14_v4.nc\n",
        "          header_dir: /home/silvia.falchetti/Softs/REP14ROMS\n",
        "          header_file: rep14.h\n",
        "          his_file: /storage/ROMS/EnKF/REP14/OPERATIONAL/20140619/his/roms_20140619_REF_72...\n",
        "          history: ROMS/TOMS, Version 3.7, Thursday - June 19, 2014 -  8:00:02 AM ;\n",
        "FMRC Best...\n",
        "          ini_file: /storage/ROMS/EnKF/REP14/OPERATIONAL/20140618/rst/roms_20140618_REF_72...\n",
        "          location: Proto fmrc:cmre_roms\n",
        "          os: Linux\n",
        "          rst_file: /storage/ROMS/EnKF/REP14/OPERATIONAL/20140619/rst/roms_20140619_REF_72...\n",
        "          script_file: \n",
        "          summary: Insert blurb from final report.  \n",
        "          svn_rev: 714M\n",
        "          svn_url: https://www.myroms.org/svn/src/trunk\n",
        "          tiling: 004x003\n",
        "          time: ocean_time\n",
        "          title: REP14:Model:CMRE:ROMS:Native Grid:Free Run\n",
        "          type: ROMS/TOMS history file\n"
       ]
      }
     ],
     "prompt_number": 16
    },
    {
     "cell_type": "code",
     "collapsed": false,
     "input": [],
     "language": "python",
     "metadata": {},
     "outputs": []
    }
   ],
   "metadata": {}
  }
 ]
}